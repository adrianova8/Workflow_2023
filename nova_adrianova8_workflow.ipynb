{
 "cells": [
  {
   "cell_type": "markdown",
   "metadata": {},
   "source": [
    "# Workflow\n",
    "\n",
    "En esta práctica vamos a aplicar lo aprendido en esta asignatura para crear un flujo que automatice la descarga, análisis y publicación de los datos utilizando distintas herramientas como Zenodo, github y librerías de python para el análisis de datos\n",
    "\n",
    "### Librerías necesarias para la práctica\n",
    "\n",
    "```python\n",
    "import xml.etree.ElementTree as ET # module implements a simple and efficient API for parsing and creating XML data.\n",
    "import requests\n",
    "import json # zenedo devuelve todo en formato json\n",
    "import zipfile # sirve para descomprir todo lo que haya \n",
    "```\n",
    "\n",
    "### Elementos necesarios\n",
    "* Al menos un fichero CSV\n",
    "* Un script de análisis de datos en CSV (Publicado en Github)\n"
   ]
  },
  {
   "cell_type": "markdown",
   "metadata": {},
   "source": [
    "# Publicación de datos iniciales\n",
    "\n",
    "Utilizando Zenodo, de forma manual, publicar los datos que se vayan a utilizar.\n",
    "\n",
    "<div class=\"alert alert-warning\" role=\"alert\" style=\"margin: 10px\">\n",
    "<p>Utilizar Communities para localizar más facilmente los datos</p>\n",
    "</div>\n",
    "\n",
    "# Pasos seguidos\n",
    "\n",
    "- 1.- Descargamos un dataset que nos interese (.csv)\n",
    "- 2.- Generamos un script con código de python (He creado un histograma de las alturas para los juagadores de basket)\n",
    "- 3.- Creamos una comunidad en Zenodo (AdriaNovaPages_comunity)\n",
    "- 4.- Subimos el csv de local a Zenodo, haciendo referencia a la comunidad.\n",
    "- 5.- Subimos el script que lo tenemos en la cuenta de github (repositorio Workflow_2023)\n",
    "\n",
    "**NOMBRE DE LA COMUNIDAD:** AdriaNovaPages_comunity"
   ]
  },
  {
   "cell_type": "markdown",
   "metadata": {},
   "source": [
    "# Publicación de script de Análisis\n",
    "\n",
    "En Github + Zenodo"
   ]
  },
  {
   "cell_type": "markdown",
   "metadata": {},
   "source": [
    "- 5.- Subimos el script que lo tenemos en la cuenta de github (repositorio Workflow_2023) a ZENODO"
   ]
  },
  {
   "cell_type": "markdown",
   "metadata": {},
   "source": [
    "# Descarga de datos\n",
    "\n",
    "Desde Zenodo, utilizando los métodos conocidos (OAI-PMH, API)\n",
    "\n",
    "Pista: url+'?verb=ListRecords&set=nombre_set"
   ]
  },
  {
   "cell_type": "code",
   "execution_count": 1,
   "metadata": {},
   "outputs": [],
   "source": [
    "import requests\n",
    "import json\n",
    "import csv\n",
    "from datetime import datetime\n",
    "import xml.etree.cElementTree as ET"
   ]
  },
  {
   "cell_type": "markdown",
   "metadata": {},
   "source": [
    "Un par de funciones para búsqueda\n",
    "\n",
    "oai_set -> es la comunidad, filtra por comunidad zenodo"
   ]
  },
  {
   "cell_type": "code",
   "execution_count": 2,
   "metadata": {},
   "outputs": [],
   "source": [
    "# ZENODO OAI2D\n",
    "oai_url = 'https://sandox.zenodo.org/oai2d'"
   ]
  },
  {
   "cell_type": "code",
   "execution_count": 3,
   "metadata": {},
   "outputs": [],
   "source": [
    "def search_dataset(url,oai_set,metadata_format):\n",
    "    \"\"\"Search the datasets identifiers in the defined set\n",
    "        Parameters\n",
    "        ----------\n",
    "        url : string\n",
    "            OAI-PMH endpoint url\n",
    "        oai_set : string\n",
    "            OAI-PMH set where the datasets will be searched\n",
    "        metadata_format : string\n",
    "            Selected metadata format to search\n",
    "        Returns\n",
    "        -------\n",
    "        dataset_ids : array \n",
    "            Dataset IDs\n",
    "    \"\"\"\n",
    "    #Define bounds to search in specific set\n",
    "    bounds = \"&set=\"+oai_set\n",
    "    oai = requests.get(url+'?verb=ListRecords&metadataPrefix='+metadata_format+bounds)\n",
    "\n",
    "    oaiTree = ET.ElementTree(ET.fromstring(oai.text.encode('utf-8')))\n",
    "    item = oaiTree.findall('.//{http://datacite.org/schema/kernel-3}identifier')\n",
    "    return item"
   ]
  },
  {
   "cell_type": "code",
   "execution_count": 4,
   "metadata": {},
   "outputs": [],
   "source": [
    "# FUNCIÓN QUE TE SACA LOS FORMATOS DE LOS METADATOS OAI\n",
    "def get_oai_metadata_formats(url):\n",
    "    \"\"\"Lists the available metadata formats\n",
    "        Parameters\n",
    "        ----------\n",
    "        url : string\n",
    "            OAI-PMH endpoint url\n",
    "        Returns\n",
    "        -------\n",
    "        metadata_formats : \n",
    "            Name of the downloaded file(s).\n",
    "    \"\"\"\n",
    "    metadata_formats = []\n",
    "    oai_verb = '?verb=ListMetadataFormats'\n",
    "    oai = requests.get(url + oai_verb) #Peticion al servidor\n",
    "    xmlTree = ET.ElementTree(ET.fromstring(oai.text))\n",
    "    iterator = xmlTree.iter()\n",
    "    for elem in iterator:\n",
    "        if (elem.tag == '{http://www.openarchives.org/OAI/2.0/}metadataPrefix'):\n",
    "            metadata_formats.append(elem.text)\n",
    "    return metadata_formats"
   ]
  },
  {
   "cell_type": "markdown",
   "metadata": {},
   "source": [
    "para descargar los datos"
   ]
  },
  {
   "cell_type": "code",
   "execution_count": 5,
   "metadata": {},
   "outputs": [],
   "source": [
    "def check_dataset(ids,api_url,tipo):\n",
    "    \"\"\"Checks if the available datasets satisfy the dates and location req\n",
    "        Parameters\n",
    "        ----------\n",
    "        ids : array\n",
    "            List of dataset ids\n",
    "        api_url : string\n",
    "            API to get dataset metadata\n",
    "        tipo : string\n",
    "            type of file to download\n",
    "        Returns\n",
    "        -------\n",
    "        downloaded_datasets : array \n",
    "            List of downloaded datasets\n",
    "    \"\"\"\n",
    "    list_of_files = []\n",
    "    for i in ids: # Hay 3 archivos subidos por user-cdp\n",
    "        response = requests.get('https://sandbox.zenodo.org/api/records', params={'q': i.text.split('.')[-1]})\n",
    "        url_to_check = response.json()['hits']['hits'][0]['links']['latest']\n",
    "        headers = {'accept': 'application/json', 'Content-Type': 'application/json'}\n",
    "        metadata = requests.get(url_to_check, headers=headers)\n",
    "        for e in metadata.json()['files']:\n",
    "            print(e)\n",
    "            if (\".%s\" % tipo) in e['filename']:\n",
    "                file_name = e['filename'].replace('/','_')\n",
    "                list_of_files.append(file_name)\n",
    "                link = e['links']['download']\n",
    "                with open(file_name, \"wb\") as f:\n",
    "                    print(\"Downloading %s\" % file_name)\n",
    "                    response = requests.get(link, stream=True)\n",
    "                    total_length = response.headers.get('content-length')\n",
    "                    if total_length is None: # no content length header\n",
    "                        f.write(response.content)\n",
    "                    else:\n",
    "                        dl = 0\n",
    "                        total_length = int(total_length)\n",
    "                        for data in response.iter_content(chunk_size=4096):\n",
    "                            dl += len(data)\n",
    "                            f.write(data)\n",
    "                            done = int(50 * dl / total_length)\n",
    "                            sys.stdout.write(\"\\r[%s%s]\" % ('=' * done, ' ' * (50-done)) )    \n",
    "                            sys.stdout.flush()\n",
    "      \n",
    "    return list_of_files"
   ]
  },
  {
   "cell_type": "markdown",
   "metadata": {},
   "source": [
    "Busco el dataset"
   ]
  },
  {
   "cell_type": "code",
   "execution_count": 6,
   "metadata": {},
   "outputs": [
    {
     "name": "stdout",
     "output_type": "stream",
     "text": [
      "Searching datasets OAI-PMH\n",
      "Searching Datasets\n",
      "[<Element '{http://datacite.org/schema/kernel-3}identifier' at 0x10f0611c0>, <Element '{http://datacite.org/schema/kernel-3}identifier' at 0x10f09cc20>]\n",
      "Checking/download Datasets\n",
      "{'checksum': '1f648fdaae05d1b619cc7b05e442214e', 'filename': 'players_stats.csv', 'filesize': 80373, 'id': '7e2b9d8c-c576-453c-8b7a-bc6b270c7750', 'links': {'download': 'https://sandbox.zenodo.org/api/files/02f83fed-9c09-465a-9eca-9bda1f8726fd/players_stats.csv', 'self': 'https://sandbox.zenodo.org/api/deposit/depositions/1150484/files/7e2b9d8c-c576-453c-8b7a-bc6b270c7750'}}\n",
      "Downloading players_stats.csv\n",
      "{'checksum': '6cee1b171e7a2a1df5799c94e033218b', 'filename': 'adrianova8/Workflow_2023-branch.zip', 'filesize': 33858, 'id': '440d50ae-133d-45c1-97d3-e99e8ef42d09', 'links': {'download': 'https://sandbox.zenodo.org/api/files/425c2da8-58f1-4046-aee2-b113acbe27b3/adrianova8/Workflow_2023-branch.zip', 'self': 'https://sandbox.zenodo.org/api/deposit/depositions/1150516/files/440d50ae-133d-45c1-97d3-e99e8ef42d09'}}\n",
      "['players_stats.csv']\n",
      "{'checksum': '1f648fdaae05d1b619cc7b05e442214e', 'filename': 'players_stats.csv', 'filesize': 80373, 'id': '7e2b9d8c-c576-453c-8b7a-bc6b270c7750', 'links': {'download': 'https://sandbox.zenodo.org/api/files/02f83fed-9c09-465a-9eca-9bda1f8726fd/players_stats.csv', 'self': 'https://sandbox.zenodo.org/api/deposit/depositions/1150484/files/7e2b9d8c-c576-453c-8b7a-bc6b270c7750'}}\n",
      "{'checksum': '6cee1b171e7a2a1df5799c94e033218b', 'filename': 'adrianova8/Workflow_2023-branch.zip', 'filesize': 33858, 'id': '440d50ae-133d-45c1-97d3-e99e8ef42d09', 'links': {'download': 'https://sandbox.zenodo.org/api/files/425c2da8-58f1-4046-aee2-b113acbe27b3/adrianova8/Workflow_2023-branch.zip', 'self': 'https://sandbox.zenodo.org/api/deposit/depositions/1150516/files/440d50ae-133d-45c1-97d3-e99e8ef42d09'}}\n",
      "Downloading adrianova8_Workflow_2023-branch.zip\n",
      "[==================================================]['adrianova8_Workflow_2023-branch.zip']\n"
     ]
    }
   ],
   "source": [
    "import sys\n",
    "#Searching datasets OAI-PMH\n",
    "print(\"Searching datasets OAI-PMH\")\n",
    "oai_url = 'https://sandbox.zenodo.org/oai2d'\n",
    "metadata_formats = get_oai_metadata_formats(oai_url)\n",
    "\n",
    "#TODO hardcoded\n",
    "print(\"Searching Datasets\")\n",
    "oai_set = 'user-adrianovapages_comunity' #OJO!! user - (poner la comunidad) user-AdriaNovaPages_comunity\n",
    "dataset_list = search_dataset(oai_url,oai_set,'oai_datacite3')\n",
    "print(dataset_list)\n",
    "\n",
    "print(\"Checking/download Datasets\")\n",
    "api_url = 'https://doi.org/'\n",
    "\n",
    "csv_files = check_dataset(dataset_list,api_url,'csv')\n",
    "print(csv_files)\n",
    "\n",
    "zip_files = check_dataset(dataset_list,api_url,'zip')\n",
    "print(zip_files)"
   ]
  },
  {
   "cell_type": "code",
   "execution_count": 7,
   "metadata": {},
   "outputs": [
    {
     "name": "stdout",
     "output_type": "stream",
     "text": [
      "README.md                            ferag_csvprinter-1.01.zip\r\n",
      "Workflow_resuelto2022.ipynb          nova_adrianova8_workflow.ipynb\r\n",
      "\u001b[34madrianova8-Workflow_2023-3bb696d\u001b[m\u001b[m/    \u001b[31mplayers_stats.csv\u001b[m\u001b[m*\r\n",
      "adrianova8_Workflow_2023-branch.zip  plot.py\r\n",
      "amt_2010.csv                         script.ipynb\r\n",
      "\u001b[34mferag-csvprinter-59552e7\u001b[m\u001b[m/            script.py\r\n"
     ]
    }
   ],
   "source": [
    "ls"
   ]
  },
  {
   "cell_type": "code",
   "execution_count": 8,
   "metadata": {},
   "outputs": [],
   "source": [
    "import zipfile\n",
    "import os\n",
    "with zipfile.ZipFile(\"adrianova8_Workflow_2023-branch.zip\", 'r') as zip_ref:\n",
    "    zip_ref.extractall(\".\")"
   ]
  },
  {
   "cell_type": "code",
   "execution_count": 9,
   "metadata": {},
   "outputs": [
    {
     "data": {
      "image/png": "[encoded data removed]",
      "text/plain": [
       "<Figure size 640x480 with 1 Axes>"
      ]
     },
     "metadata": {},
     "output_type": "display_data"
    }
   ],
   "source": [
    "import pandas as pd\n",
    "import matplotlib.pyplot as plt\n",
    "\n",
    "data = pd.read_csv('players_stats.csv')\n",
    "\n",
    "# Generate two normal distributions\n",
    "dist1 = data['Height']\n",
    "n_bins = 20\n",
    "\n",
    "# We can set the number of bins with the *bins* keyword argument.\n",
    "plt.hist(dist1, bins=n_bins)\n",
    "plt.title(\"Basketball height players\")\n",
    "plt.xlabel(\"Height\")\n",
    "plt.ylabel(\"Frequency\")\n",
    "plt.show()"
   ]
  },
  {
   "cell_type": "code",
   "execution_count": 10,
   "metadata": {},
   "outputs": [
    {
     "data": {
      "image/png": "[encoded data removed]",
      "text/plain": [
       "<Figure size 640x480 with 1 Axes>"
      ]
     },
     "metadata": {},
     "output_type": "display_data"
    }
   ],
   "source": [
    "%run -i script.py players_stats.csv.csv"
   ]
  },
  {
   "cell_type": "code",
   "execution_count": 11,
   "metadata": {},
   "outputs": [
    {
     "name": "stdout",
     "output_type": "stream",
     "text": [
      "README.md                            ferag_csvprinter-1.01.zip\r\n",
      "Workflow_resuelto2022.ipynb          nova_adrianova8_workflow.ipynb\r\n",
      "\u001b[34madrianova8-Workflow_2023-3bb696d\u001b[m\u001b[m/    \u001b[31mplayers_stats.csv\u001b[m\u001b[m*\r\n",
      "adrianova8_Workflow_2023-branch.zip  plot.py\r\n",
      "amt_2010.csv                         script.ipynb\r\n",
      "\u001b[34mferag-csvprinter-59552e7\u001b[m\u001b[m/            script.py\r\n"
     ]
    }
   ],
   "source": [
    "ls"
   ]
  },
  {
   "cell_type": "markdown",
   "metadata": {},
   "source": [
    "# Descarga de código\n",
    "\n",
    "Desde Zenodo, utilizando los métodos conocidos (OAI-PMH, API)\n",
    "\n",
    "<div class=\"alert alert-warning\" role=\"alert\" style=\"margin: 10px\">\n",
    "<p>Zenodo guarda un zip con el código</p>\n",
    "</div>"
   ]
  },
  {
   "cell_type": "code",
   "execution_count": 12,
   "metadata": {},
   "outputs": [
    {
     "name": "stdout",
     "output_type": "stream",
     "text": [
      "Searching software OAI-PMH\n",
      "Searching Software\n",
      "[<Element '{http://datacite.org/schema/kernel-3}identifier' at 0x11a840540>, <Element '{http://datacite.org/schema/kernel-3}identifier' at 0x11a842340>]\n",
      "Checking/download Datasets\n",
      "{'checksum': '1f648fdaae05d1b619cc7b05e442214e', 'filename': 'players_stats.csv', 'filesize': 80373, 'id': '7e2b9d8c-c576-453c-8b7a-bc6b270c7750', 'links': {'download': 'https://sandbox.zenodo.org/api/files/02f83fed-9c09-465a-9eca-9bda1f8726fd/players_stats.csv', 'self': 'https://sandbox.zenodo.org/api/deposit/depositions/1150484/files/7e2b9d8c-c576-453c-8b7a-bc6b270c7750'}}\n",
      "{'checksum': '6cee1b171e7a2a1df5799c94e033218b', 'filename': 'adrianova8/Workflow_2023-branch.zip', 'filesize': 33858, 'id': '440d50ae-133d-45c1-97d3-e99e8ef42d09', 'links': {'download': 'https://sandbox.zenodo.org/api/files/425c2da8-58f1-4046-aee2-b113acbe27b3/adrianova8/Workflow_2023-branch.zip', 'self': 'https://sandbox.zenodo.org/api/deposit/depositions/1150516/files/440d50ae-133d-45c1-97d3-e99e8ef42d09'}}\n",
      "Downloading adrianova8_Workflow_2023-branch.zip\n",
      "[==================================================]['adrianova8_Workflow_2023-branch.zip']\n"
     ]
    }
   ],
   "source": [
    " #Searching code OAI-PMH\n",
    "print(\"Searching software OAI-PMH\")\n",
    "oai_url = 'https://sandbox.zenodo.org/oai2d'\n",
    "metadata_formats = get_oai_metadata_formats(oai_url)\n",
    "\n",
    "#TODO hardcoded\n",
    "print(\"Searching Software\")\n",
    "oai_set = 'user-adrianovapages_comunity'\n",
    "dataset_list = search_dataset(oai_url,oai_set,'oai_datacite')\n",
    "print(dataset_list)\n",
    "\n",
    "print(\"Checking/download Datasets\")\n",
    "api_url = 'https://doi.org/'\n",
    "\n",
    "zip_files = check_dataset(dataset_list,api_url,'zip') # comprobar la direccion de los ficheros donde los tienes publicsados y descargarlos\n",
    "print(zip_files)"
   ]
  },
  {
   "cell_type": "code",
   "execution_count": 13,
   "metadata": {},
   "outputs": [],
   "source": [
    "import zipfile\n",
    "with zipfile.ZipFile(\"adrianova8_Workflow_2023-branch.zip\",\"r\") as zip_ref:\n",
    "    zip_ref.extractall(\".\")"
   ]
  },
  {
   "cell_type": "code",
   "execution_count": 14,
   "metadata": {},
   "outputs": [
    {
     "name": "stdout",
     "output_type": "stream",
     "text": [
      "players_stats.csv  script.py\r\n"
     ]
    }
   ],
   "source": [
    "ls adrianova8-Workflow_2023-3bb696d"
   ]
  },
  {
   "cell_type": "markdown",
   "metadata": {},
   "source": [
    "# Análisis de los datos\n",
    "\n",
    "Producir fichero: Otro CSV, imagen, etc"
   ]
  },
  {
   "cell_type": "code",
   "execution_count": 15,
   "metadata": {},
   "outputs": [
    {
     "data": {
      "image/png": "[encoded data removed]",
      "text/plain": [
       "<Figure size 640x480 with 1 Axes>"
      ]
     },
     "metadata": {},
     "output_type": "display_data"
    }
   ],
   "source": [
    "%run -i adrianova8-Workflow_2023-3bb696d/script.py players_stats.csv"
   ]
  },
  {
   "cell_type": "markdown",
   "metadata": {},
   "source": [
    "# Publicación de los Datos\n",
    "\n",
    "Utilizando la API de Zenodo"
   ]
  },
  {
   "cell_type": "code",
   "execution_count": 3,
   "metadata": {},
   "outputs": [],
   "source": [
    "import requests"
   ]
  },
  {
   "cell_type": "code",
   "execution_count": 6,
   "metadata": {
    "scrolled": true
   },
   "outputs": [
    {
     "data": {
      "text/plain": [
       "[{'conceptdoi': '10.5072/zenodo.1150515',\n",
       "  'conceptrecid': '1150515',\n",
       "  'created': '2023-01-23T16:25:13.487634',\n",
       "  'doi': '10.5072/zenodo.1150516',\n",
       "  'doi_url': 'https://doi.org/10.5072/zenodo.1150516',\n",
       "  'files': [{'checksum': '6cee1b171e7a2a1df5799c94e033218b',\n",
       "    'filename': 'adrianova8/Workflow_2023-branch.zip',\n",
       "    'filesize': 33858,\n",
       "    'id': '440d50ae-133d-45c1-97d3-e99e8ef42d09',\n",
       "    'links': {'download': 'https://sandbox.zenodo.org/api/files/425c2da8-58f1-4046-aee2-b113acbe27b3/adrianova8/Workflow_2023-branch.zip',\n",
       "     'self': 'https://sandbox.zenodo.org/api/deposit/depositions/1150516/files/440d50ae-133d-45c1-97d3-e99e8ef42d09'}}],\n",
       "  'id': 1150516,\n",
       "  'links': {'badge': 'https://sandbox.zenodo.org/badge/doi/10.5072/zenodo.1150516.svg',\n",
       "   'bucket': 'https://sandbox.zenodo.org/api/files/fc72febf-f3d8-4f8f-8df2-c4330e26505a',\n",
       "   'conceptbadge': 'https://sandbox.zenodo.org/badge/doi/10.5072/zenodo.1150515.svg',\n",
       "   'conceptdoi': 'https://doi.org/10.5072/zenodo.1150515',\n",
       "   'discard': 'https://sandbox.zenodo.org/api/deposit/depositions/1150516/actions/discard',\n",
       "   'doi': 'https://doi.org/10.5072/zenodo.1150516',\n",
       "   'edit': 'https://sandbox.zenodo.org/api/deposit/depositions/1150516/actions/edit',\n",
       "   'files': 'https://sandbox.zenodo.org/api/deposit/depositions/1150516/files',\n",
       "   'html': 'https://sandbox.zenodo.org/deposit/1150516',\n",
       "   'latest': 'https://sandbox.zenodo.org/api/records/1150516',\n",
       "   'latest_html': 'https://sandbox.zenodo.org/record/1150516',\n",
       "   'publish': 'https://sandbox.zenodo.org/api/deposit/depositions/1150516/actions/publish',\n",
       "   'record': 'https://sandbox.zenodo.org/api/records/1150516',\n",
       "   'record_html': 'https://sandbox.zenodo.org/record/1150516',\n",
       "   'self': 'https://sandbox.zenodo.org/api/deposit/depositions/1150516'},\n",
       "  'metadata': {'access_right': 'open',\n",
       "   'communities': [{'identifier': 'adrianovapages_comunity'}],\n",
       "   'creators': [{'name': 'Adrià Nova'}],\n",
       "   'description': '<p>Data of basketball players.</p>',\n",
       "   'doi': '10.5072/zenodo.1150516',\n",
       "   'license': 'other-open',\n",
       "   'prereserve_doi': {'doi': '10.5072/zenodo.1150516', 'recid': 1150516},\n",
       "   'publication_date': '2023-01-23',\n",
       "   'related_identifiers': [{'identifier': 'https://github.com/adrianova8/Workflow_2023/tree/branch',\n",
       "     'relation': 'isSupplementTo',\n",
       "     'scheme': 'url'}],\n",
       "   'title': 'adrianova8/Workflow_2023: Data of basketball players',\n",
       "   'upload_type': 'software',\n",
       "   'version': 'branch'},\n",
       "  'modified': '2023-02-04T22:07:33.853197',\n",
       "  'owner': 139005,\n",
       "  'record_id': 1150516,\n",
       "  'state': 'done',\n",
       "  'submitted': True,\n",
       "  'title': 'adrianova8/Workflow_2023: Data of basketball players'},\n",
       " {'conceptdoi': '10.5072/zenodo.1150483',\n",
       "  'conceptrecid': '1150483',\n",
       "  'created': '2023-01-23T16:09:49.976946',\n",
       "  'doi': '10.5072/zenodo.1150484',\n",
       "  'doi_url': 'https://doi.org/10.5072/zenodo.1150484',\n",
       "  'files': [{'checksum': '1f648fdaae05d1b619cc7b05e442214e',\n",
       "    'filename': 'players_stats.csv',\n",
       "    'filesize': 80373,\n",
       "    'id': '7e2b9d8c-c576-453c-8b7a-bc6b270c7750',\n",
       "    'links': {'download': 'https://sandbox.zenodo.org/api/files/02f83fed-9c09-465a-9eca-9bda1f8726fd/players_stats.csv',\n",
       "     'self': 'https://sandbox.zenodo.org/api/deposit/depositions/1150484/files/7e2b9d8c-c576-453c-8b7a-bc6b270c7750'}}],\n",
       "  'id': 1150484,\n",
       "  'links': {'badge': 'https://sandbox.zenodo.org/badge/doi/10.5072/zenodo.1150484.svg',\n",
       "   'bucket': 'https://sandbox.zenodo.org/api/files/bb6e3d3d-bcc7-47eb-87cd-cc4b27398ede',\n",
       "   'conceptbadge': 'https://sandbox.zenodo.org/badge/doi/10.5072/zenodo.1150483.svg',\n",
       "   'conceptdoi': 'https://doi.org/10.5072/zenodo.1150483',\n",
       "   'discard': 'https://sandbox.zenodo.org/api/deposit/depositions/1150484/actions/discard',\n",
       "   'doi': 'https://doi.org/10.5072/zenodo.1150484',\n",
       "   'edit': 'https://sandbox.zenodo.org/api/deposit/depositions/1150484/actions/edit',\n",
       "   'files': 'https://sandbox.zenodo.org/api/deposit/depositions/1150484/files',\n",
       "   'html': 'https://sandbox.zenodo.org/deposit/1150484',\n",
       "   'latest': 'https://sandbox.zenodo.org/api/records/1150484',\n",
       "   'latest_html': 'https://sandbox.zenodo.org/record/1150484',\n",
       "   'publish': 'https://sandbox.zenodo.org/api/deposit/depositions/1150484/actions/publish',\n",
       "   'record': 'https://sandbox.zenodo.org/api/records/1150484',\n",
       "   'record_html': 'https://sandbox.zenodo.org/record/1150484',\n",
       "   'self': 'https://sandbox.zenodo.org/api/deposit/depositions/1150484'},\n",
       "  'metadata': {'access_right': 'open',\n",
       "   'communities': [{'identifier': 'adrianovapages_comunity'}],\n",
       "   'creators': [{'affiliation': 'UC', 'name': 'Adrià'}],\n",
       "   'description': '<p>Basket Data description</p>',\n",
       "   'doi': '10.5072/zenodo.1150484',\n",
       "   'license': 'CC-BY-4.0',\n",
       "   'prereserve_doi': {'doi': '10.5072/zenodo.1150484', 'recid': 1150484},\n",
       "   'publication_date': '2023-01-23',\n",
       "   'title': 'Basket Data',\n",
       "   'upload_type': 'dataset'},\n",
       "  'modified': '2023-02-04T21:07:29.887717',\n",
       "  'owner': 139005,\n",
       "  'record_id': 1150484,\n",
       "  'state': 'done',\n",
       "  'submitted': True,\n",
       "  'title': 'Basket Data'}]"
      ]
     },
     "execution_count": 6,
     "metadata": {},
     "output_type": "execute_result"
    }
   ],
   "source": [
    "ACCESS_TOKEN = 'uPwIk2kwGcbnCNa83w8PKhwMolYQ420hd8SDKL5ZEFjyQMU1iBLjGOaJUK9s'\n",
    "r = requests.get('https://sandbox.zenodo.org/api/deposit/depositions',params={'access_token': ACCESS_TOKEN})\n",
    "r.status_code\n",
    "r.json()"
   ]
  },
  {
   "cell_type": "markdown",
   "metadata": {},
   "source": [
    "+ EN ESTE APARTADO HE TENIDO PROBLEMAS PARA PUBLICAR LOS DATOS A ZENODO, YA QUE CONSTANTEMENTE ME DABA COMO SALIDA EL ERROR 403 (ACCESO DENEGADO), HE BUSCADO COMO HACERLO DESDE LA API DE ZENDO, POR STACKOVERFLOW Y NO LO HE CONSEGUIDO. ME GUSTARIA SABER COMO SE HACE UNA VEZ PASADA LA CORRECIÓN PARA APRENDER DE ELLO. "
   ]
  },
  {
   "cell_type": "code",
   "execution_count": 10,
   "metadata": {},
   "outputs": [
    {
     "data": {
      "text/plain": [
       "'{\"status\": 403, \"message\": null}'"
      ]
     },
     "execution_count": 10,
     "metadata": {},
     "output_type": "execute_result"
    }
   ],
   "source": [
    "deposition_id = \"1150516\"\n",
    "data = {'name': 'adrianova8/Workflow_2023-branch.zip'}\n",
    "files = {'file': open('script.py', 'rb')}\n",
    "headers = {'User-Agent': 'Mozilla/5.0 (Macintosh; Intel Mac OS X 10_15_7) AppleWebKit/537.36 (KHTML, like Gecko) Chrome/109.0.0.0 Safari/537.36'}\n",
    "#headers = {\"Content-Type\": \"application/json\"}\n",
    "r = requests.post('https://sandbox.zenodo.org/api/deposit/depositions/1150516/files',\n",
    "                  params={'access_token': ACCESS_TOKEN}, data=data,\n",
    "                  files=files, headers = headers)\n",
    "r.text "
   ]
  },
  {
   "cell_type": "code",
   "execution_count": 57,
   "metadata": {},
   "outputs": [
    {
     "data": {
      "text/plain": [
       "415"
      ]
     },
     "execution_count": 57,
     "metadata": {},
     "output_type": "execute_result"
    }
   ],
   "source": [
    "data = {\n",
    "    'metadata': {\n",
    "        'title': 'My first upload',\n",
    "        'upload_type': 'dataset',\n",
    "        'description': 'This is my first upload',\n",
    "        'creators': [{'name': 'Adria, Nova',\n",
    "                      'affiliation': 'UC'}]\n",
    "    }\n",
    "}\n",
    "r = requests.put('https://sandbox.zenodo.org/api/deposit/depositions/%s' % deposition_id,\n",
    "                 params={'access_token': ACCESS_TOKEN}, data=json.dumps(data),\n",
    "                 headers=headers)\n",
    "r.status_code"
   ]
  }
 ],
 "metadata": {
  "kernelspec": {
   "display_name": "Python 3 (ipykernel)",
   "language": "python",
   "name": "python3"
  },
  "language_info": {
   "codemirror_mode": {
    "name": "ipython",
    "version": 3
   },
   "file_extension": ".py",
   "mimetype": "text/x-python",
   "name": "python",
   "nbconvert_exporter": "python",
   "pygments_lexer": "ipython3",
   "version": "3.10.6"
  }
 },
 "nbformat": 4,
 "nbformat_minor": 4
}
